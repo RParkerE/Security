{
 "cells": [
  {
   "cell_type": "markdown",
   "id": "7ecbf1fc",
   "metadata": {},
   "source": [
    "# TTI: Python For Defenders\n",
    "## 2-4: Lab - File Hash Generator"
   ]
  },
  {
   "cell_type": "code",
   "execution_count": null,
   "id": "6d246570",
   "metadata": {},
   "outputs": [],
   "source": [
    "import hashlib"
   ]
  },
  {
   "cell_type": "markdown",
   "id": "9ddebe7a",
   "metadata": {},
   "source": [
    "### Upload Files"
   ]
  },
  {
   "cell_type": "code",
   "execution_count": null,
   "id": "a3af3203",
   "metadata": {},
   "outputs": [],
   "source": [
    "from IPython.display import display\n",
    "import ipywidgets as widgets"
   ]
  },
  {
   "cell_type": "code",
   "execution_count": null,
   "id": "08de8e1b",
   "metadata": {},
   "outputs": [],
   "source": [
    "upload = widgets.FileUpload(multiple=True)\n",
    "label = widgets.Label(value=\"Upload Files Here: \")\n",
    "hbox = widgets.HBox([label, upload])\n",
    "display(hbox)"
   ]
  },
  {
   "cell_type": "markdown",
   "id": "e4c3c11f",
   "metadata": {},
   "source": [
    "### Generate Hashes"
   ]
  },
  {
   "cell_type": "code",
   "execution_count": null,
   "id": "ae315dc5",
   "metadata": {},
   "outputs": [],
   "source": [
    "def generate_hashes(sample: str) -> dict:\n",
    "    \"\"\"\n",
    "    Generates a dict of hashes for a given bytes sample\n",
    "    \"\"\"\n",
    "    sample = sample.encode()\n",
    "    return {\n",
    "        \"md5\": hashlib.md5(sample).hexdigest(),\n",
    "        \"sha1\": hashlib.sha1(sample).hexdigest(),\n",
    "        \"sha384\": hashlib.sha384(sample).hexdigest(),\n",
    "        \"sha256\": hashlib.sha256(sample).hexdigest(),\n",
    "        \"sha512\": hashlib.sha512(sample).hexdigest()\n",
    "    }"
   ]
  },
  {
   "cell_type": "code",
   "execution_count": null,
   "id": "39eebc61",
   "metadata": {},
   "outputs": [],
   "source": [
    "results = []\n",
    "\n",
    "i = 0\n",
    "while i < len(upload.value):\n",
    "    filename = upload.value[i][\"name\"]\n",
    "    file_hashes: dict = { filename: generate_hashes(\"content\") for (key, value) in upload.value[i].items() }\n",
    "    results.append(file_hashes)\n",
    "    i += 1"
   ]
  },
  {
   "cell_type": "markdown",
   "id": "a8a55d70",
   "metadata": {},
   "source": [
    "### Display Results"
   ]
  },
  {
   "cell_type": "markdown",
   "id": "bded51df",
   "metadata": {},
   "source": [
    "```html\n",
    "<table>\n",
    "    <tr>\n",
    "        <th>Column Header 1</th>\n",
    "        <th>Column Header 2</th>\n",
    "    </tr>\n",
    "    <tr>\n",
    "        <td>Table Cell</td>\n",
    "        <td>Table Cell</td>\n",
    "    </tr>\n",
    "</table>\n",
    "```"
   ]
  },
  {
   "cell_type": "code",
   "execution_count": null,
   "id": "ca22c44c",
   "metadata": {},
   "outputs": [],
   "source": [
    "# Build our HTML table\n",
    "table = \"<table>\"\n",
    "table += \"<tr><th>File Name</th><th>MD5</th><th>SHA1</th><th>SHA384</th><th>SHA256</th><th>SHA512</th></tr>\"\n",
    "\n",
    "for res in results:\n",
    "    key, value = list(res.items())[0]\n",
    "    table += f\"<tr><td>{key}</td>\"\n",
    "    for hashes in value.items():\n",
    "        table += f\"<td>{hashes[1]}</td>\"\n",
    "    table += \"</tr>\"\n",
    "table += \"</table>\""
   ]
  },
  {
   "cell_type": "code",
   "execution_count": null,
   "id": "6f256b99",
   "metadata": {},
   "outputs": [],
   "source": [
    "html = widgets.HTML(table)\n",
    "display(html)"
   ]
  }
 ],
 "metadata": {
  "kernelspec": {
   "display_name": "Python 3 (ipykernel)",
   "language": "python",
   "name": "python3"
  },
  "language_info": {
   "codemirror_mode": {
    "name": "ipython",
    "version": 3
   },
   "file_extension": ".py",
   "mimetype": "text/x-python",
   "name": "python",
   "nbconvert_exporter": "python",
   "pygments_lexer": "ipython3",
   "version": "3.10.11"
  }
 },
 "nbformat": 4,
 "nbformat_minor": 5
}
