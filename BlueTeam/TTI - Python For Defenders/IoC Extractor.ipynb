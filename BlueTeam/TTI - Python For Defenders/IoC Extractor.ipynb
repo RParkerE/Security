{
 "cells": [
  {
   "cell_type": "markdown",
   "id": "f49caf2e",
   "metadata": {},
   "source": [
    "# TTI: Python For Defenders\n",
    "## 3-5: Lab - IoC Extractor"
   ]
  },
  {
   "cell_type": "code",
   "execution_count": 1,
   "id": "395a7fd2",
   "metadata": {},
   "outputs": [],
   "source": [
    "import ipywidgets as widgets\n",
    "from IPython.display import display\n",
    "import json\n",
    "import csv\n",
    "import pdfplumber\n",
    "import re"
   ]
  },
  {
   "cell_type": "markdown",
   "id": "41cb6703",
   "metadata": {},
   "source": [
    "### Aquire Files"
   ]
  },
  {
   "cell_type": "code",
   "execution_count": 2,
   "id": "79e5907a",
   "metadata": {},
   "outputs": [
    {
     "data": {
      "application/vnd.jupyter.widget-view+json": {
       "model_id": "5cd660d1d1a64cdda58eaaca34765fcc",
       "version_major": 2,
       "version_minor": 0
      },
      "text/plain": [
       "HBox(children=(Label(value='Upload Files: '), FileUpload(value=(), accept='.csv, .txt, .json, .pdf, .html', de…"
      ]
     },
     "metadata": {},
     "output_type": "display_data"
    }
   ],
   "source": [
    "upload = widgets.FileUpload(multiple=True, accept=\".csv, .txt, .json, .pdf, .html\")\n",
    "label = widgets.Label(value=\"Upload Files: \")\n",
    "box = widgets.HBox([label, upload])\n",
    "display(box)"
   ]
  },
  {
   "cell_type": "markdown",
   "id": "dcccfe8f",
   "metadata": {},
   "source": [
    "### Extract Content"
   ]
  },
  {
   "cell_type": "code",
   "execution_count": 3,
   "id": "b31d2639",
   "metadata": {},
   "outputs": [],
   "source": [
    "def get_pdf_text(pdf_path: str) -> str:\n",
    "    \"\"\"\n",
    "    Extracts text from file at pdf_path and returns a big ol' string of the results\n",
    "    \"\"\"\n",
    "    with pdfplumber.open(pdf_path) as pdf:\n",
    "        return \"\".join([p.extract_text() for p in pdf.pages])\n",
    "    \n",
    "def get_file_contents(filename: str) -> str:\n",
    "    \"\"\"\n",
    "    Seeks the upload widget for a given filename.\n",
    "    \n",
    "    If it is there and it's not a PDF, grabs the contents as a string\n",
    "    \n",
    "    PDFs, it will use the filename with get_pdf_text\n",
    "    \"\"\"\n",
    "    # Check for a PDF\n",
    "    for file in upload.value:\n",
    "        if file[\"name\"] == filename and file[\"type\"] == \"application/pdf\":\n",
    "            return get_pdf_text(filename)\n",
    "    \n",
    "    # Otherwise get the contents\n",
    "    for file in upload.value:\n",
    "        if file[\"name\"] == filename:\n",
    "            return file[\"content\"]"
   ]
  },
  {
   "cell_type": "code",
   "execution_count": null,
   "id": "fd970c9c",
   "metadata": {},
   "outputs": [],
   "source": [
    "i = 0\n",
    "while i < len(upload.value):\n",
    "    data: dict = { upload.value[i][\"name\"]: get_file_contents(upload.value[i][\"name\"]) }\n",
    "    i += 1"
   ]
  },
  {
   "cell_type": "markdown",
   "id": "015f6881",
   "metadata": {},
   "source": [
    "### Match Patterns"
   ]
  },
  {
   "cell_type": "code",
   "execution_count": 4,
   "id": "f0c4bbae",
   "metadata": {},
   "outputs": [],
   "source": [
    "# IoC Regexes\n",
    "md5_pattern = re.compile(r\"(?<![0-9a-f])[0-9a-f]{32}(?![0-9a-f])\")\n",
    "sha1_pattern = re.compile(r\"(?<![0-9a-f])[0-9a-f]{40}(?![0-9a-f])\")\n",
    "sha256_pattern = re.compile(r\"(?<![0-9a-f])[0-9a-f]{64}(?![0-9a-f])\")\n",
    "sha512_pattern = re.compile(r\"[0-9a-f]{128}\")\n",
    "ipv4_pattern = re.compile(r\"(?:[0-9]{1,3}\\.){3}[0-9]{1,3}\")\n",
    "domain_pattern = re.compile(r\"(?:[A-Za-z0-9\\-]+\\.)+[A-Za-z]{2,}\")\n",
    "url_pattern = re.compile(r\"https?://(?:[A-Za-z0-9\\-]+\\.)+[A-Za-z0-9]{2,}(?::\\d{1,5})?[/A-Za-z0-9\\-%?=\\+\\.]+\")"
   ]
  },
  {
   "cell_type": "code",
   "execution_count": null,
   "id": "6d1f6ada",
   "metadata": {},
   "outputs": [],
   "source": [
    "results = {}\n",
    "\n",
    "for d in data:\n",
    "    content = data[d].tobytes().decode(\"utf-8\")\n",
    "    results[d] = {\n",
    "        'md5': list(set(md5_pattern.findall(content))),\n",
    "        'sha1': list(set(sha1_pattern.findall(content))),\n",
    "        'sha256': list(set(sha256_pattern.findall(content))),\n",
    "        'sha512': list(set(sha512_pattern.findall(content))),\n",
    "        'ipv4': list(set(ipv4_pattern.findall(content))),\n",
    "        'domain': list(set(domain_pattern.findall(content))),\n",
    "        'url': list(set(url_pattern.findall(content)))\n",
    "    }\n",
    "    \n",
    "results"
   ]
  },
  {
   "cell_type": "markdown",
   "id": "257bd2de",
   "metadata": {},
   "source": [
    "### Deliver"
   ]
  },
  {
   "cell_type": "code",
   "execution_count": 5,
   "id": "1723e93e",
   "metadata": {},
   "outputs": [
    {
     "data": {
      "application/vnd.jupyter.widget-view+json": {
       "model_id": "f0937264927b4518887e79bcd600e0f8",
       "version_major": 2,
       "version_minor": 0
      },
      "text/plain": [
       "HBox(children=(Button(description='CSV Export', style=ButtonStyle()), Button(description='JSON Export', style=…"
      ]
     },
     "metadata": {},
     "output_type": "display_data"
    }
   ],
   "source": [
    "output = widgets.Output()\n",
    "\n",
    "json_button = widgets.Button(description=\"JSON Export\")\n",
    "csv_button = widgets.Button(description=\"CSV Export\")\n",
    "\n",
    "box = widgets.HBox([csv_button, json_button, output])\n",
    "display(box)\n",
    "\n",
    "# Define filenames\n",
    "CSV_RESULTS: str = 'results.csv'\n",
    "JSON_RESULTS: str = 'results.json'\n",
    "    \n",
    "def csv_export(b):\n",
    "    header = [\"filename\", \"type\", \"value\"]\n",
    "    with open(CSV_RESULTS, 'w') as f:\n",
    "        writer = csv.writer()\n",
    "        writer.writerow(header)\n",
    "        for filename in results:\n",
    "            result = results[filename]\n",
    "            for ioc_type in result:\n",
    "                iocs = result[ioc_type]\n",
    "                rows = [[filename, ioc_type, i] for i in iocs]\n",
    "                writer.writerows(rows)\n",
    "    print(f\"{CSV_RESULTS} written\")\n",
    "    \n",
    "def json_export(b):\n",
    "    with output:\n",
    "        with open (JSON_RESULTS, 'w') as f:\n",
    "            json.dump(results, f)\n",
    "            print(f\"{JSON_RESULTS} written\")\n",
    "            \n",
    "csv_button.on_click(csv_export)\n",
    "json_button.on_click(json_export)"
   ]
  }
 ],
 "metadata": {
  "kernelspec": {
   "display_name": "Python 3 (ipykernel)",
   "language": "python",
   "name": "python3"
  },
  "language_info": {
   "codemirror_mode": {
    "name": "ipython",
    "version": 3
   },
   "file_extension": ".py",
   "mimetype": "text/x-python",
   "name": "python",
   "nbconvert_exporter": "python",
   "pygments_lexer": "ipython3",
   "version": "3.10.11"
  }
 },
 "nbformat": 4,
 "nbformat_minor": 5
}
