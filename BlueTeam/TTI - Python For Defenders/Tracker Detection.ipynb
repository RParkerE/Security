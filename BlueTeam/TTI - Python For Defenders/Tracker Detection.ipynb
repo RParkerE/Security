{
 "cells": [
  {
   "cell_type": "markdown",
   "id": "46a3817d",
   "metadata": {},
   "source": [
    "# TTI: Python For Defenders\n",
    "## 4-4: Lab - Tracker Detection"
   ]
  },
  {
   "cell_type": "code",
   "execution_count": 1,
   "id": "e853b5e8",
   "metadata": {},
   "outputs": [],
   "source": [
    "from bs4 import BeautifulSoup\n",
    "import requests\n",
    "import re"
   ]
  },
  {
   "cell_type": "markdown",
   "id": "181b0909",
   "metadata": {},
   "source": [
    "### Recon"
   ]
  },
  {
   "cell_type": "code",
   "execution_count": 2,
   "id": "223ba7c6",
   "metadata": {},
   "outputs": [],
   "source": [
    "script_patterns = {\n",
    "    \"meta\": \"https://connect.facebook.net/en_US/fbevents.js\",\n",
    "    \"google\": \"gtag\\('config'\"\n",
    "}"
   ]
  },
  {
   "cell_type": "code",
   "execution_count": 3,
   "id": "e18fb0b7",
   "metadata": {},
   "outputs": [],
   "source": [
    "sites = [\n",
    "    \"taggart-tech.com\",\n",
    "    \"shop.bbc.com\",\n",
    "    \"huffpost.com\",\n",
    "    \"discord.com\",\n",
    "    \"soundcloud.com\",\n",
    "    \"canva.com\"\n",
    "]"
   ]
  },
  {
   "cell_type": "code",
   "execution_count": 4,
   "id": "107f1477",
   "metadata": {},
   "outputs": [],
   "source": [
    "results = {}"
   ]
  },
  {
   "cell_type": "code",
   "execution_count": 5,
   "id": "bf0ae79e",
   "metadata": {},
   "outputs": [],
   "source": [
    "def pattern_match(pattern: str, sample: str) -> bool:\n",
    "    \"\"\"\n",
    "    Check to see if a pattern is found in a sample\n",
    "    \"\"\"\n",
    "    return re.search(pattern, sample) != None"
   ]
  },
  {
   "cell_type": "code",
   "execution_count": 6,
   "id": "f2e798ac",
   "metadata": {},
   "outputs": [],
   "source": [
    "for s in sites:\n",
    "    results[s] = []\n",
    "    content: str = requests.get(f\"https://{s}\").text\n",
    "    soup = BeautifulSoup(content)\n",
    "    \n",
    "    script_tags = [t.text for t in soup.find_all(\"script\")]\n",
    "    \n",
    "    for p in script_patterns:\n",
    "        pattern: str = script_patterns[p]\n",
    "        if any([pattern_match(pattern, t) for t in script_tags]):\n",
    "            results[s].append(p)"
   ]
  },
  {
   "cell_type": "code",
   "execution_count": 8,
   "id": "d491e76f",
   "metadata": {},
   "outputs": [
    {
     "data": {
      "text/plain": [
       "{'taggart-tech.com': ['google'],\n",
       " 'shop.bbc.com': ['google'],\n",
       " 'huffpost.com': ['meta', 'google'],\n",
       " 'discord.com': ['meta'],\n",
       " 'soundcloud.com': [],\n",
       " 'canva.com': []}"
      ]
     },
     "execution_count": 8,
     "metadata": {},
     "output_type": "execute_result"
    }
   ],
   "source": [
    "results"
   ]
  }
 ],
 "metadata": {
  "kernelspec": {
   "display_name": "Python 3 (ipykernel)",
   "language": "python",
   "name": "python3"
  },
  "language_info": {
   "codemirror_mode": {
    "name": "ipython",
    "version": 3
   },
   "file_extension": ".py",
   "mimetype": "text/x-python",
   "name": "python",
   "nbconvert_exporter": "python",
   "pygments_lexer": "ipython3",
   "version": "3.10.11"
  }
 },
 "nbformat": 4,
 "nbformat_minor": 5
}
